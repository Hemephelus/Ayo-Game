{
 "cells": [
  {
   "cell_type": "code",
   "execution_count": 68,
   "metadata": {},
   "outputs": [],
   "source": [
    "# state = {'board': [1, 0, 2, 1, 0, 1, 3, 1, 0, 2, 1, 0], 'current_player': 1, 'player_territory': (0, 6)}\n",
    "# action = 6\n",
    "# play(state, action, True)"
   ]
  },
  {
   "cell_type": "markdown",
   "metadata": {},
   "source": [
    "# New Game Play"
   ]
  },
  {
   "cell_type": "code",
   "execution_count": 57,
   "metadata": {},
   "outputs": [],
   "source": [
    "import copy\n",
    "import random \n",
    "from json.encoder import INFINITY\n",
    "\n",
    "seed = 37\n",
    "\n",
    "randint = random.randint\n",
    "random.seed(seed)"
   ]
  },
  {
   "cell_type": "code",
   "execution_count": 36,
   "metadata": {},
   "outputs": [],
   "source": [
    "def end_game(state):\n",
    "    \n",
    "    return sum(state['board']) == 0"
   ]
  },
  {
   "cell_type": "code",
   "execution_count": 37,
   "metadata": {},
   "outputs": [],
   "source": [
    "def assign_reward(reward, new_reward):\n",
    "    return [reward[0] + new_reward[0], reward[1] + new_reward[1], new_reward[2]]"
   ]
  },
  {
   "cell_type": "code",
   "execution_count": 38,
   "metadata": {},
   "outputs": [],
   "source": [
    "def terminate_loop(state):\n",
    "    state['board'] = [0, 0, 0, 0, 0, 0, 0, 0, 0, 0, 0, 0]\n",
    "    reward = (0,0,0)\n",
    "\n",
    "    return (state, reward)"
   ]
  },
  {
   "cell_type": "code",
   "execution_count": 39,
   "metadata": {},
   "outputs": [],
   "source": [
    "def print_game_play(state, reward, new_starting_position):\n",
    "    print('state: ', state)\n",
    "    print('reward: ', reward)\n",
    "    print('new_starting_position: ', new_starting_position)\n",
    "    print('--------------------')"
   ]
  },
  {
   "cell_type": "code",
   "execution_count": 40,
   "metadata": {},
   "outputs": [],
   "source": [
    "def four_left(state, reward):\n",
    "    state['board'] = [0, 0, 0, 0, 0, 0, 0, 0, 0, 0, 0, 0]\n",
    "\n",
    "    if reward[2] == 0: \n",
    "        return  (4,0,0)\n",
    "    \n",
    "    if reward[2] == 1: \n",
    "        return  (0,4,1)"
   ]
  },
  {
   "cell_type": "code",
   "execution_count": 41,
   "metadata": {},
   "outputs": [],
   "source": [
    "def get_valid_actions(arr):\n",
    "    new_arr = []\n",
    "    for i,a in enumerate(arr):\n",
    "        if a != 0:\n",
    "            new_arr.append(i)\n",
    "    return new_arr"
   ]
  },
  {
   "cell_type": "code",
   "execution_count": 66,
   "metadata": {},
   "outputs": [],
   "source": [
    "def generate_action(state,agent):\n",
    "      func = agent['func']\n",
    "      arg = agent['arg']\n",
    "      return func(state, arg)\n"
   ]
  },
  {
   "cell_type": "code",
   "execution_count": 43,
   "metadata": {},
   "outputs": [],
   "source": [
    "def is_valid_actions(state):\n",
    "\n",
    "    if state['current_player'] == 0:\n",
    "          val = state['board'][0:state['player_territory'][1]]\n",
    "          return sum(val)\n",
    "    \n",
    "    if state['current_player'] == 1:\n",
    "          val = state['board'][state['player_territory'][1]:12]\n",
    "          return sum(val)\n",
    "    "
   ]
  },
  {
   "cell_type": "code",
   "execution_count": 71,
   "metadata": {},
   "outputs": [
    {
     "data": {
      "text/plain": [
       "True"
      ]
     },
     "execution_count": 71,
     "metadata": {},
     "output_type": "execute_result"
    }
   ],
   "source": [
    "a = 0\n",
    "not a"
   ]
  },
  {
   "cell_type": "code",
   "execution_count": 44,
   "metadata": {},
   "outputs": [],
   "source": [
    "def get_reward(stones_in_pit, board, position, stone, current_player, player_territory): \n",
    "    board[position] = 0\n",
    "    if stone == stones_in_pit-1 and position < player_territory[1] and current_player == 1:\n",
    "        return (0,4,1)\n",
    "\n",
    "    if stone == stones_in_pit-1 and position >= player_territory[1] and current_player == 0:\n",
    "        return  (4,0,0)\n",
    "\n",
    "    if position < player_territory[1]:\n",
    "        return  (4,0,0)\n",
    "        # return (0,4,1)\n",
    "\n",
    "    else:\n",
    "        return (0,4,1)\n"
   ]
  },
  {
   "cell_type": "code",
   "execution_count": 45,
   "metadata": {},
   "outputs": [],
   "source": [
    "def is_illegal_move(state, action):\n",
    "    board = state['board']\n",
    "    current_player = state['current_player']\n",
    "    player_territory = state['player_territory']\n",
    "    stones_in_pit = board[action]\n",
    "\n",
    "\n",
    "    # is pit empty\n",
    "    if stones_in_pit == 0:\n",
    "        # print('pit is empty')\n",
    "        return True\n",
    "    \n",
    "    # is pit not in player one's territory\n",
    "    if current_player == 0 and action >= player_territory[1]:\n",
    "        # print(\"pit is not in player 1's territory\")\n",
    "        return True\n",
    "    \n",
    "    # is pit not in player two's territory\n",
    "    if current_player == 1 and action <  player_territory[1]:\n",
    "        # print(\"pit is not in player 2's territory\")\n",
    "        return True\n",
    "    \n",
    "    return False\n"
   ]
  },
  {
   "cell_type": "code",
   "execution_count": 46,
   "metadata": {},
   "outputs": [],
   "source": [
    "def session(state, starting_position,latest_winner ):\n",
    "    new_state = copy.deepcopy(state)\n",
    "\n",
    "    board = new_state['board']\n",
    "    current_player = new_state['current_player']\n",
    "    player_territory = new_state['player_territory']\n",
    "    stones_in_pit = board[starting_position]\n",
    "    board[starting_position] = 0\n",
    "    reward = [0,0,latest_winner]\n",
    "\n",
    "\n",
    "    for stone in range(stones_in_pit):\n",
    "        future_position = (stone + starting_position + 1) % 12\n",
    "        board[future_position] += 1\n",
    "\n",
    "        if board[future_position] == 4:\n",
    "             new_reward = get_reward(stones_in_pit, board, future_position, stone, current_player, player_territory)\n",
    "             reward = assign_reward(reward, new_reward)\n",
    "\n",
    "    return (new_state, reward, future_position)\n"
   ]
  },
  {
   "cell_type": "code",
   "execution_count": 58,
   "metadata": {},
   "outputs": [],
   "source": [
    "def play(state, action, show=False):\n",
    "    reward = [0,0,0]\n",
    "    max_rez = 100\n",
    "    rez = 0\n",
    "\n",
    "    if is_illegal_move(state, action):\n",
    "        state['board'] = [0, 0, 0, 0, 0, 0, 0, 0, 0, 0, 0, 0]\n",
    "        return (state, reward)\n",
    "\n",
    "    state, new_reward, new_starting_position = session(state, action, reward[2])\n",
    "    reward = assign_reward(reward, new_reward)\n",
    "    if show:\n",
    "        print_game_play(state, reward, new_starting_position)\n",
    "\n",
    "    board = state['board']\n",
    "    stones_in_pit = board[new_starting_position]\n",
    "    \n",
    "    while stones_in_pit > 1:\n",
    "        state, new_reward, new_starting_position = session(state,new_starting_position,reward[2])\n",
    "        reward = assign_reward(reward, new_reward)\n",
    "        if show:\n",
    "            print_game_play(state, reward, new_starting_position)\n",
    "\n",
    "        board = state['board']\n",
    "        stones_in_pit = board[new_starting_position]\n",
    "\n",
    "        if rez > max_rez:\n",
    "            state, reward = terminate_loop(state)\n",
    "            return (state, reward)\n",
    "\n",
    "        rez += 1\n",
    "\n",
    "    \n",
    "    state['current_player'] = +(not state['current_player'])\n",
    "\n",
    "    if sum(state['board']) <= 4:\n",
    "        new_reward = four_left(state, reward)\n",
    "        reward = assign_reward(reward, new_reward)\n",
    "\n",
    "    if is_valid_actions(state) == -1:\n",
    "        new_reward = terminate(state)\n",
    "        state['current_player'] = +(not state['current_player'])\n",
    "        reward = assign_reward(reward, new_reward)\n",
    "\n",
    "    return (state, reward)"
   ]
  },
  {
   "cell_type": "markdown",
   "metadata": {},
   "source": [
    "## Agents"
   ]
  },
  {
   "cell_type": "code",
   "execution_count": 67,
   "metadata": {},
   "outputs": [],
   "source": [
    "def random_agent(state, arg=None):\n",
    "\n",
    "    if state['current_player'] == 0:\n",
    "        arr = state['board'][0:state['player_territory'][1]]\n",
    "        valid_actions = get_valid_actions(arr)\n",
    "        return valid_actions[randint(0,len(valid_actions)-1)]\n",
    "    \n",
    "\n",
    "    if state['current_player'] == 1:\n",
    "        arr = state['board'][state['player_territory'][1]:12]\n",
    "        valid_actions = get_valid_actions(arr)\n",
    "        return valid_actions[randint(0,len(valid_actions)-1)] + state['player_territory'][1]"
   ]
  },
  {
   "cell_type": "markdown",
   "metadata": {},
   "source": [
    "## Simulation"
   ]
  },
  {
   "cell_type": "code",
   "execution_count": 61,
   "metadata": {},
   "outputs": [],
   "source": [
    "def simulate_game(state, player_1, player_2,show=False):\n",
    "    state = copy.deepcopy(state)\n",
    "    reward = [0,0,0]\n",
    "    path = []\n",
    "\n",
    "    while True:\n",
    "        action = generate_action(state, player_1, player_2)\n",
    "\n",
    "        if is_illegal_move(state, action):\n",
    "            continue\n",
    "        \n",
    "        state, new_reward = play(state, action)\n",
    "        reward = assign_reward(reward, new_reward)\n",
    "        if show:\n",
    "            print_game_play(state, reward, action)\n",
    "\n",
    "        if end_game(state):\n",
    "            break\n",
    "        path.append(action)\n",
    "    \n",
    "    # print('state: ', state)\n",
    "    return  (reward, path)"
   ]
  },
  {
   "cell_type": "code",
   "execution_count": null,
   "metadata": {},
   "outputs": [],
   "source": [
    "# state = {\n",
    "# 'board' :[4,4,4,4,4,4,4,4,4,4,4,4],\n",
    "#   'current_player': 0,\n",
    "#   'player_territory': (0,6)}\n",
    "\n",
    "# simulate_game(state)"
   ]
  },
  {
   "cell_type": "code",
   "execution_count": 65,
   "metadata": {},
   "outputs": [
    {
     "name": "stdout",
     "output_type": "stream",
     "text": [
      "player_territory 0 2\n"
     ]
    },
    {
     "ename": "TypeError",
     "evalue": "generate_action() missing 2 required positional arguments: 'player_1' and 'player_2'",
     "output_type": "error",
     "traceback": [
      "\u001b[1;31m---------------------------------------------------------------------------\u001b[0m",
      "\u001b[1;31mTypeError\u001b[0m                                 Traceback (most recent call last)",
      "Cell \u001b[1;32mIn[65], line 28\u001b[0m\n\u001b[0;32m     22\u001b[0m results \u001b[38;5;241m=\u001b[39m {\n\u001b[0;32m     23\u001b[0m       \u001b[38;5;124m'\u001b[39m\u001b[38;5;124mplayer_1_wins\u001b[39m\u001b[38;5;124m'\u001b[39m: \u001b[38;5;241m0\u001b[39m,\n\u001b[0;32m     24\u001b[0m       \u001b[38;5;124m'\u001b[39m\u001b[38;5;124mplayer_2_wins\u001b[39m\u001b[38;5;124m'\u001b[39m: \u001b[38;5;241m0\u001b[39m,\n\u001b[0;32m     25\u001b[0m       \u001b[38;5;124m'\u001b[39m\u001b[38;5;124mties\u001b[39m\u001b[38;5;124m'\u001b[39m: \u001b[38;5;241m0\u001b[39m,\n\u001b[0;32m     26\u001b[0m    }\n\u001b[0;32m     27\u001b[0m \u001b[38;5;28;01mfor\u001b[39;00m i \u001b[38;5;129;01min\u001b[39;00m \u001b[38;5;28mrange\u001b[39m(number_of_games):\n\u001b[1;32m---> 28\u001b[0m    reward, path \u001b[38;5;241m=\u001b[39m \u001b[43msimulate_game\u001b[49m\u001b[43m(\u001b[49m\u001b[43mstate\u001b[49m\u001b[43m,\u001b[49m\u001b[43m \u001b[49m\u001b[43mplayer_1\u001b[49m\u001b[43m,\u001b[49m\u001b[43m \u001b[49m\u001b[43mplayer_2\u001b[49m\u001b[43m)\u001b[49m\n\u001b[0;32m     29\u001b[0m    lol\u001b[38;5;241m.\u001b[39mappend([reward,path])\n\u001b[0;32m     30\u001b[0m    \u001b[38;5;28;01mif\u001b[39;00m reward[\u001b[38;5;241m0\u001b[39m] \u001b[38;5;241m>\u001b[39m reward[\u001b[38;5;241m1\u001b[39m]:\n",
      "Cell \u001b[1;32mIn[61], line 12\u001b[0m, in \u001b[0;36msimulate_game\u001b[1;34m(state, player_1, player_2, show)\u001b[0m\n\u001b[0;32m      9\u001b[0m \u001b[38;5;28;01mif\u001b[39;00m is_illegal_move(state, action):\n\u001b[0;32m     10\u001b[0m     \u001b[38;5;28;01mcontinue\u001b[39;00m\n\u001b[1;32m---> 12\u001b[0m state, new_reward \u001b[38;5;241m=\u001b[39m \u001b[43mplay\u001b[49m\u001b[43m(\u001b[49m\u001b[43mstate\u001b[49m\u001b[43m,\u001b[49m\u001b[43m \u001b[49m\u001b[43maction\u001b[49m\u001b[43m)\u001b[49m\n\u001b[0;32m     13\u001b[0m reward \u001b[38;5;241m=\u001b[39m assign_reward(reward, new_reward)\n\u001b[0;32m     14\u001b[0m \u001b[38;5;28;01mif\u001b[39;00m show:\n",
      "Cell \u001b[1;32mIn[58], line 40\u001b[0m, in \u001b[0;36mplay\u001b[1;34m(state, action, show)\u001b[0m\n\u001b[0;32m     37\u001b[0m     new_reward \u001b[38;5;241m=\u001b[39m four_left(state, reward)\n\u001b[0;32m     38\u001b[0m     reward \u001b[38;5;241m=\u001b[39m assign_reward(reward, new_reward)\n\u001b[1;32m---> 40\u001b[0m \u001b[38;5;28;01mif\u001b[39;00m \u001b[43mgenerate_action\u001b[49m\u001b[43m(\u001b[49m\u001b[43mstate\u001b[49m\u001b[43m)\u001b[49m \u001b[38;5;241m==\u001b[39m \u001b[38;5;241m-\u001b[39m\u001b[38;5;241m1\u001b[39m:\n\u001b[0;32m     41\u001b[0m     new_reward \u001b[38;5;241m=\u001b[39m terminate(state)\n\u001b[0;32m     42\u001b[0m     reward \u001b[38;5;241m=\u001b[39m assign_reward(reward, new_reward)\n",
      "\u001b[1;31mTypeError\u001b[0m: generate_action() missing 2 required positional arguments: 'player_1' and 'player_2'"
     ]
    }
   ],
   "source": [
    "state = {\n",
    "   'board' :[4,4,4,4,4,4,4,4,4,4,4,4],\n",
    "   'current_player': 0,\n",
    "   'player_territory': (0,6)\n",
    "}\n",
    "number_of_games = 10\n",
    "lol = []\n",
    "\n",
    "player_1 = {\n",
    "   'func': random_player_1,\n",
    "   'arg': {}\n",
    "}\n",
    "\n",
    "player_2 = {\n",
    "   'func': random_player_2,\n",
    "   'arg': {}\n",
    "}\n",
    "\n",
    "for j in range(2,11):\n",
    "   state['player_territory'] = (0,j)\n",
    "   print('player_territory',0,j)\n",
    "   results = {\n",
    "         'player_1_wins': 0,\n",
    "         'player_2_wins': 0,\n",
    "         'ties': 0,\n",
    "      }\n",
    "   for i in range(number_of_games):\n",
    "      reward, path = simulate_game(state, player_1, player_2)\n",
    "      lol.append([reward,path])\n",
    "      if reward[0] > reward[1]:\n",
    "         results['player_1_wins'] += 1 \n",
    "      elif reward[0] < reward[1]:\n",
    "         results['player_2_wins'] += 1 \n",
    "      elif reward[0] == reward[1]:\n",
    "         results['ties'] += 1 \n",
    "    \n",
    "   print(results)\n",
    "   print('player_1_wins: ',results['player_1_wins']/number_of_games * 100)\n",
    "   print('player_2_wins: ',results['player_2_wins']/number_of_games * 100)\n",
    "   print('ties: ',results['ties']/number_of_games * 100)\n",
    "   # print(lol)"
   ]
  },
  {
   "cell_type": "markdown",
   "metadata": {},
   "source": [
    "# Algorithms"
   ]
  },
  {
   "cell_type": "markdown",
   "metadata": {},
   "source": [
    "## Minimax Algorithim"
   ]
  },
  {
   "cell_type": "code",
   "execution_count": null,
   "metadata": {},
   "outputs": [],
   "source": [
    "\n",
    "def best_move(origin_game_state, max_dept=2):\n",
    "    all_game_state = []\n",
    "    all_game_state.append(origin_game_state)\n",
    "\n",
    "    if origin_game_state['current_player'] == 0:\n",
    "        best_score = -INFINITY\n",
    "        for action in range(6):\n",
    "            temp_state =  copy.deepcopy(all_game_state[-1])\n",
    "            # temp_state['path'].append(child)\n",
    "            game_state, new_reward = play(temp_state, action)\n",
    "            reward = assign_reward(reward, new_reward)\n",
    "            all_game_state.append(game_state)\n",
    "            score = minimax(game_state, False, all_game_state, 2, max_dept, -INFINITY, INFINITY)\n",
    "            all_game_state.pop()\n",
    "\n",
    "            if score > best_score:\n",
    "                best_score = score\n",
    "                move = action\n",
    "\n",
    "    else:\n",
    "        best_score = INFINITY\n",
    "        for child in range(6,12):\n",
    "            temp_state =  copy.deepcopy(all_game_state[-1])\n",
    "            temp_state['starting_position'] = child\n",
    "            # temp_state['path'].append(child)\n",
    "            ayo_board = temp_state['ayo_board']\n",
    "\n",
    "            if ayo_board[child] != 0:\n",
    "                game_state, new_reward = play_game(temp_state)\n",
    "                all_game_state.append(game_state)\n",
    "                score = minimax(game_state, True,all_game_state,1,max_dept,-INFINITY,INFINITY)\n",
    "                all_game_state.pop()\n",
    "\n",
    "                if score < best_score:\n",
    "                    best_score = score\n",
    "                    move = child\n",
    "    print('best_score',best_score)\n",
    "    return move\n",
    "\n",
    "\n",
    "\n",
    "def minimax(game_state, is_maximizing,all_game_state,current_player,max_dept,alpha,beta ):\n",
    "    max_dept -= 1\n",
    "    game_state['current_player'] = current_player\n",
    "\n",
    "    if(max_dept <= 0 or  end_game(game_state)):\n",
    "        return game_state['player_1_points']-game_state['player_2_points']\n",
    "\n",
    "    if is_maximizing:\n",
    "        best_score = -INFINITY\n",
    "\n",
    "        for action in range(6):\n",
    "            temp_state =  copy.deepcopy(all_game_state[-1])\n",
    "            temp_state['starting_position'] = action\n",
    "            # temp_state['path'].append(child)\n",
    "            game_state, new_reward = play(temp_state, action)\n",
    "            all_game_state.append(game_state)\n",
    "            score = minimax(game_state, False,all_game_state,2,max_dept,alpha,beta)\n",
    "            all_game_state.pop()\n",
    "            best_score = max(score, best_score)\n",
    "            alpha = max(alpha,score)\n",
    "\n",
    "            if beta <= alpha:\n",
    "                break\n",
    "\n",
    "        return best_score\n",
    "\n",
    "    else:\n",
    "        best_score = INFINITY\n",
    "\n",
    "        for child in range(6,12):\n",
    "            temp_state =  copy.deepcopy(all_game_state[-1])\n",
    "            temp_state['starting_position'] = child\n",
    "            # temp_state['path'].append(child)\n",
    "            ayo_board = temp_state['ayo_board']\n",
    "\n",
    "            if ayo_board[child] != 0:\n",
    "                game_state, new_reward = play(temp_state)\n",
    "                all_game_state.append(game_state)\n",
    "                score = minimax(game_state, True,all_game_state,1,max_dept,alpha,beta)\n",
    "                all_game_state.pop()\n",
    "                best_score = min(score, best_score)\n",
    "                beta = min(beta,score)\n",
    "\n",
    "                if beta <= alpha:\n",
    "                    break\n",
    "\n",
    "        return best_score\n"
   ]
  },
  {
   "cell_type": "code",
   "execution_count": null,
   "metadata": {},
   "outputs": [],
   "source": [
    "def simulate_game(state,player_1, player_2, show=False):\n",
    "    state = copy.deepcopy(state)\n",
    "    reward = [0,0,0]\n",
    "    path = []\n",
    "\n",
    "    while True:\n",
    "        action = generate_action(state,player_1, player_2)\n",
    "\n",
    "        if is_illegal_move(state, action):\n",
    "            continue\n",
    "        \n",
    "        state, new_reward = play(state, action)\n",
    "        reward = assign_reward(reward, new_reward)\n",
    "        if show:\n",
    "            print_game_play(state, reward, action)\n",
    "\n",
    "        if end_game(state):\n",
    "            break\n",
    "        path.append(action)\n",
    "    \n",
    "    # print('state: ', state)\n",
    "    return  (reward, path)"
   ]
  },
  {
   "cell_type": "code",
   "execution_count": null,
   "metadata": {},
   "outputs": [],
   "source": [
    "state = {\n",
    "   'board' :[4,4,4,4,4,4,4,4,4,4,4,4],\n",
    "   'current_player': 0,\n",
    "   'player_territory': (0,6)\n",
    "}\n",
    "number_of_games = 10000\n",
    "lol = []\n",
    "\n",
    "\n",
    "for j in range(2,11):\n",
    "   state['player_territory'] = (0,j)\n",
    "   print('player_territory',0,j)\n",
    "   results = {\n",
    "         'player_1_wins': 0,\n",
    "         'player_2_wins': 0,\n",
    "         'ties': 0,\n",
    "      }\n",
    "   for i in range(number_of_games):\n",
    "      reward, path = simulate_game(state)\n",
    "      lol.append([reward,path])\n",
    "      if reward[0] > reward[1]:\n",
    "         results['player_1_wins'] += 1 \n",
    "      elif reward[0] < reward[1]:\n",
    "         results['player_2_wins'] += 1 \n",
    "      elif reward[0] == reward[1]:\n",
    "         results['ties'] += 1 \n",
    "    \n",
    "   print(results)\n",
    "   print('player_1_wins: ',results['player_1_wins']/number_of_games * 100)\n",
    "   print('player_2_wins: ',results['player_2_wins']/number_of_games * 100)\n",
    "   print('ties: ',results['ties']/number_of_games * 100)\n",
    "   # print(lol)"
   ]
  },
  {
   "cell_type": "code",
   "execution_count": null,
   "metadata": {},
   "outputs": [],
   "source": []
  }
 ],
 "metadata": {
  "kernelspec": {
   "display_name": "Python 3",
   "language": "python",
   "name": "python3"
  },
  "language_info": {
   "codemirror_mode": {
    "name": "ipython",
    "version": 3
   },
   "file_extension": ".py",
   "mimetype": "text/x-python",
   "name": "python",
   "nbconvert_exporter": "python",
   "pygments_lexer": "ipython3",
   "version": "3.11.4"
  }
 },
 "nbformat": 4,
 "nbformat_minor": 2
}
